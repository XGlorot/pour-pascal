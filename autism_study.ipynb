{
 "cells": [
  {
   "cell_type": "markdown",
   "metadata": {
    "heading_collapsed": true
   },
   "source": [
    "# Library Imports"
   ]
  },
  {
   "cell_type": "code",
   "execution_count": null,
   "metadata": {
    "hidden": true,
    "hide_input": false,
    "id": "wCPkpE_advrV",
    "init_cell": true
   },
   "outputs": [],
   "source": [
    "%%capture\n",
    "\n",
    "import bokeh\n",
    "import pandas\n",
    "import qgrid\n",
    "import numpy\n",
    "\n",
    "from bokeh.io import output_file\n",
    "from bokeh.io import output_notebook\n",
    "from bokeh.io import show\n",
    "from bokeh.layouts import layout\n",
    "from bokeh.models import ColumnDataSource\n",
    "from bokeh.models import CustomJS\n",
    "from bokeh.models import EqHistColorMapper\n",
    "from bokeh.models import HoverTool\n",
    "from bokeh.models import Legend\n",
    "from bokeh.models import LinearColorMapper\n",
    "from bokeh.models import RadioButtonGroup\n",
    "from bokeh.models import Slider\n",
    "from bokeh.plotting import figure\n",
    "\n",
    "from bokeh.palettes import Viridis8 as palette\n",
    "from bokeh.palettes import Category20 as Cat20\n",
    "palette = tuple(reversed(palette))\n",
    "cat_palette = Cat20[20]\n",
    "\n",
    "bokeh.sampledata.download()\n",
    "from bokeh.sampledata.us_counties import data as counties"
   ]
  },
  {
   "cell_type": "markdown",
   "metadata": {},
   "source": [
    "# Load Datasets\n",
    "Look at data/README.md for more information on the datasets"
   ]
  },
  {
   "cell_type": "code",
   "execution_count": null,
   "metadata": {
    "cell_style": "center",
    "hide_input": false,
    "id": "WQlr72WSdvrW",
    "init_cell": true
   },
   "outputs": [],
   "source": [
    "# Load autism prevalence data\n",
    "autism = pandas.read_csv(\"data/ADV_AllData.csv\")\n",
    "# State codes are lower case in the other tables\n",
    "state_list = [s.lower() for s in set(autism['Location'])]\n",
    "# Remove not needed states\n",
    "state_list.remove('ak')\n",
    "state_list.remove('hi')\n",
    "\n",
    "# Load census data\n",
    "census = pandas.read_csv(\n",
    "    \"data/census.txt\", dtype={'year': int, 'fips': str, 'age': int, 'pop': int})\n",
    "# group by year and county\n",
    "tot_pop = census.groupby(['year', 'fips'])\n",
    "\n",
    "# Load vaccine data\n",
    "name = ['polio', 'dtap', 'MMR', 'Hib', 'varicelle',\n",
    "        'hepatB', 'hepatA','PCV', 'rotavirus']\n",
    "coverage = []\n",
    "for nn in name:\n",
    "    coverage += [pandas.read_csv(\"data/\"+ nn +\"_row.txt\")]\n",
    "\n",
    "# Adjust the counties dictionary    \n",
    "counties = {\n",
    "    code: county for code, county in counties.items() if county[\"state\"] in state_list\n",
    "}\n",
    "statefull_list = list(set([counties[county_id]['detailed name'].split(', ')[1]\n",
    "                            for county_id in counties]))"
   ]
  },
  {
   "cell_type": "markdown",
   "metadata": {},
   "source": [
    "# Inspect Tables"
   ]
  },
  {
   "cell_type": "markdown",
   "metadata": {
    "cell_style": "split"
   },
   "source": [
    "## Autism Prevalence"
   ]
  },
  {
   "cell_type": "markdown",
   "metadata": {
    "cell_style": "split"
   },
   "source": [
    "## Vaccination Coverage"
   ]
  },
  {
   "cell_type": "code",
   "execution_count": null,
   "metadata": {
    "cell_style": "split",
    "hide_input": true,
    "init_cell": true
   },
   "outputs": [],
   "source": [
    "# Print prevalence data\n",
    "table_viz = qgrid.show_grid(autism, show_toolbar=True)\n",
    "table_viz"
   ]
  },
  {
   "cell_type": "code",
   "execution_count": null,
   "metadata": {
    "cell_style": "split",
    "hide_input": true,
    "init_cell": true
   },
   "outputs": [],
   "source": [
    "# Print vaccine data\n",
    "table_viz = qgrid.show_grid(pandas.concat(coverage), show_toolbar=True)\n",
    "table_viz"
   ]
  },
  {
   "cell_type": "markdown",
   "metadata": {},
   "source": [
    "# Interactive Maps"
   ]
  },
  {
   "cell_type": "markdown",
   "metadata": {
    "heading_collapsed": true
   },
   "source": [
    "## Plotting Tools"
   ]
  },
  {
   "cell_type": "code",
   "execution_count": null,
   "metadata": {
    "hidden": true,
    "init_cell": true
   },
   "outputs": [],
   "source": [
    "county_xs = [county[\"lons\"] for county in counties.values()]\n",
    "county_ys = [county[\"lats\"] for county in counties.values()]\n",
    "county_names = [county['name'] for county in counties.values()]\n",
    "\n",
    "button_code = \"\"\"\n",
    "console.log('radio_button_group: active=' + this.active, this.toString())\n",
    "var data = source.data;\n",
    "var values = data['values']\n",
    "var newvalues = data['values_' + this.labels[this.active]]\n",
    "for (var i = 0; i < values.length; i++) {\n",
    "    values[i] = newvalues[i]\n",
    "}\n",
    "source.change.emit();\n",
    "\"\"\"\n",
    "\n",
    "\n",
    "def InteractiveMapPlot(year, values, maxim, minim,\n",
    "                       name, mapper=EqHistColorMapper):\n",
    "    output_notebook()\n",
    "    color_mapper = mapper(\n",
    "        palette=palette, high=maxim, low=minim, low_color=\"#FFFFFF\")\n",
    "\n",
    "    data = dict(x=county_xs,\n",
    "                y=county_ys,\n",
    "                name=county_names)\n",
    "    for y in year:\n",
    "        data.update({\"values_%d\" % (y): values[y]})\n",
    "    data.update({\"values\": values[year[0]]})\n",
    "    source = ColumnDataSource(data)\n",
    "\n",
    "    TOOLS = \"pan,wheel_zoom,reset,hover,save\"\n",
    "    p = figure(plot_width=1000, plot_height=800,\n",
    "               title=\"U.S. %s\"%name, tools=TOOLS,\n",
    "               x_axis_location=None, y_axis_location=None,\n",
    "               tooltips=[(\"Name\", \"@name\"),\n",
    "                         (name, \"@values\"),\n",
    "                         (\"(Long, Lat)\", \"($x, $y)\")\n",
    "                        ])\n",
    "    p.grid.grid_line_color = None\n",
    "    p.hover.point_policy = \"follow_mouse\"\n",
    "\n",
    "    patch_renderer = p.patches(\n",
    "        'x', 'y', source=source, fill_alpha=0.7,\n",
    "        line_color=\"black\", line_width=0.5,\n",
    "        fill_color={'field': 'values', 'transform': color_mapper})\n",
    "\n",
    "    callback = CustomJS(args=dict(source=source), code=button_code)\n",
    "    labels = [str(y) for y in year]\n",
    "    radio_button_group = RadioButtonGroup(labels=labels, active=0)\n",
    "    radio_button_group.js_on_click(callback)\n",
    "\n",
    "    show(layout([[p], [radio_button_group]]))\n",
    "    output_file(\"US_%s.html\"%name)\n"
   ]
  },
  {
   "cell_type": "code",
   "execution_count": null,
   "metadata": {
    "hidden": true,
    "id": "f3zhkFZ6dvrW"
   },
   "outputs": [],
   "source": [
    "year = sorted(list(set(census['year'])))\n",
    "county_pop = {}\n",
    "for y in year:\n",
    "    county_pop[y] = []\n",
    "    for county_id in counties:\n",
    "        curr_fips = \"%02d\" % (county_id[0]) + \"%03d\" % (county_id[1])\n",
    "        if (y, curr_fips) in tot_pop.groups:\n",
    "            county_pop[y] += [\n",
    "                float(tot_pop.get_group((y, curr_fips))['pop'].sum())]\n",
    "        else:\n",
    "            county_pop[y] += [0.]\n",
    "\n",
    "# retieve the max and min values\n",
    "maxim = census.groupby(['year', 'fips'])['pop'].sum().max()\n",
    "minim = census.groupby(['year', 'fips'])['pop'].sum().min()\n",
    "\n",
    "InteractiveMapPlot(year, county_pop, maxim, minim,\n",
    "                   'Population', mapper=EqHistColorMapper)"
   ]
  },
  {
   "cell_type": "markdown",
   "metadata": {},
   "source": [
    "## Autism Prevalence"
   ]
  },
  {
   "cell_type": "code",
   "execution_count": null,
   "metadata": {
    "id": "0Jom4H3VdvrW",
    "init_cell": true
   },
   "outputs": [],
   "source": [
    "# Could be one of ['medi', 'addm', 'sped', 'nsch']\n",
    "prevalence = autism[autism['Source'] == 'medi']\n",
    "year = sorted(list(set(prevalence['Year'])))\n",
    "\n",
    "county_autism = {}\n",
    "for y in year:\n",
    "    county_autism[y] = []\n",
    "    for county_id in counties:\n",
    "        curr_state = (counties[county_id]['state']).upper()\n",
    "        prev = prevalence[\n",
    "            (prevalence['Year'] == y) &\n",
    "            (prevalence['Location'] == curr_state)]['Prevalence']\n",
    "        if len(prev) and not(numpy.isnan(prev.values[0])):\n",
    "            assert len(prev) == 1\n",
    "            county_autism[y] += [prev.values[0]]\n",
    "        else:\n",
    "            county_autism[y] += [0.]\n",
    "\n",
    "# retieve the max and min values\n",
    "maxim = prevalence['Prevalence'].max()\n",
    "minim = prevalence['Prevalence'].min()\n",
    "\n",
    "InteractiveMapPlot(year, county_autism, maxim, minim,\n",
    "                   'Autism Prevalence', mapper=LinearColorMapper)"
   ]
  },
  {
   "cell_type": "markdown",
   "metadata": {},
   "source": [
    "## Vaccine Coverage"
   ]
  },
  {
   "cell_type": "code",
   "execution_count": null,
   "metadata": {
    "init_cell": true
   },
   "outputs": [],
   "source": [
    "coverage_concat = pandas.concat(coverage)\n",
    "dtap = coverage_concat[(coverage_concat['dose'] == '4dosesDTaPVaccinationAge') & \n",
    "                       (coverage_concat['category'] == '19-35 Months')]\n",
    "year = sorted(list(set(dtap['year'])))\n",
    "\n",
    "county_coverage = {}\n",
    "for y in year:\n",
    "    county_coverage[y] = []\n",
    "    for county_id in counties:\n",
    "        curr_state = (counties[county_id]['detailed name']).split(', ')[1]\n",
    "        cov = dtap[\n",
    "            (dtap['year'] == y) &\n",
    "            (dtap['location'] == curr_state)]['coverage']\n",
    "        if len(cov) and not(numpy.isnan(cov.values[0])):\n",
    "            assert len(cov) == 1\n",
    "            county_coverage[y] += [cov.values[0]]\n",
    "        else:\n",
    "            county_coverage[y] += [0.]\n",
    "\n",
    "# retieve the max and min values\n",
    "maxim = dtap['coverage'].max()\n",
    "minim = dtap['coverage'].min()\n",
    "\n",
    "InteractiveMapPlot(year, county_coverage, maxim, minim,\n",
    "                   'Vaccination Coverage', mapper=LinearColorMapper)"
   ]
  },
  {
   "cell_type": "markdown",
   "metadata": {},
   "source": [
    "# Longitudinal Analysis"
   ]
  },
  {
   "cell_type": "markdown",
   "metadata": {
    "heading_collapsed": true
   },
   "source": [
    "## Plotting Tools"
   ]
  },
  {
   "cell_type": "code",
   "execution_count": null,
   "metadata": {
    "hidden": true,
    "init_cell": true
   },
   "outputs": [],
   "source": [
    "dash  = ['solid', 'dashed', 'dotted']\n",
    "seed = 20\n",
    "\n",
    "\n",
    "def InteractiveLinePlot(year, states, low,\n",
    "                        mean, high, name, visible_every):\n",
    "    output_notebook()\n",
    "    TOOLS = \"pan,wheel_zoom,box_zoom,reset,save\"\n",
    "    p = figure(plot_width=1000, plot_height=1300, tools=TOOLS)\n",
    "    numpy.random.seed(seed)\n",
    "    order = numpy.random.permutation(len(states))\n",
    "    \n",
    "    legend_it = []\n",
    "    for idx, s in enumerate(states):\n",
    "        data = dict(year = year[s] + year[s][::-1] + year[s] + year[s][::-1],\n",
    "                    values = low[s] + mean[s][::-1] + high[s] + mean[s][::-1])\n",
    "        source = ColumnDataSource(data)\n",
    "        c = p.patch(x='year', y='values', source=source, level='underlay',\n",
    "                    fill_alpha=.3, fill_color=cat_palette[order[idx]%20],\n",
    "                    line_width=1.2, line_alpha=1, line_color=cat_palette[order[idx]%20],\n",
    "                    line_dash=dash[order[idx]//20]) \n",
    "        if idx%visible_every !=0:\n",
    "            c.visible = False\n",
    "        legend_it.append((s, [c]))\n",
    "    p.xgrid[0].grid_line_color=None\n",
    "    p.ygrid[0].grid_line_alpha=0.5\n",
    "    p.xaxis.axis_label = 'Year'\n",
    "    p.yaxis.axis_label = name\n",
    "    legend = Legend(items=legend_it)\n",
    "    legend.click_policy=\"hide\"\n",
    "    p.add_layout(legend, 'right')\n",
    "    show(p)"
   ]
  },
  {
   "cell_type": "markdown",
   "metadata": {},
   "source": [
    "## Autism Prevalence"
   ]
  },
  {
   "cell_type": "code",
   "execution_count": null,
   "metadata": {
    "init_cell": true
   },
   "outputs": [],
   "source": [
    "# Could be one of ['medi', 'addm', 'sped', 'nsch']\n",
    "prevalence = autism[autism['Source'] == 'sped']\n",
    "year = sorted(list(set(prevalence['Year'])))\n",
    "states = sorted(list(set(prevalence['Location'])))\n",
    "\n",
    "state_autism = {}\n",
    "state_low = {}\n",
    "state_high = {}\n",
    "state_year = {}\n",
    "for s in states:\n",
    "    state_autism[s] = []\n",
    "    state_low[s] = []\n",
    "    state_high[s] = []\n",
    "    state_year[s] = []\n",
    "    for y in year:\n",
    "        current = prevalence[\n",
    "            (prevalence['Year'] == y) &\n",
    "            (prevalence['Location'] == s)]\n",
    "        prev = current['Prevalence']\n",
    "        prev_min = current['Lower CI']\n",
    "        prev_max = current['Upper CI']\n",
    "        if len(prev) and not(numpy.isnan(prev.values[0])):\n",
    "            assert len(prev) == 1\n",
    "            state_autism[s] += [prev.values[0]]\n",
    "            state_low[s] += [prev_min.values[0]]\n",
    "            state_high[s] += [prev_max.values[0]]\n",
    "            state_year[s] += [y]\n",
    "\n",
    "InteractiveLinePlot(state_year, states, state_low, state_autism, state_high, 'Autism Prevalence', 2)"
   ]
  },
  {
   "cell_type": "markdown",
   "metadata": {},
   "source": [
    "## Vaccination Coverage"
   ]
  },
  {
   "cell_type": "code",
   "execution_count": null,
   "metadata": {
    "init_cell": true
   },
   "outputs": [],
   "source": [
    "coverage_concat = pandas.concat(coverage)\n",
    "dtap = coverage_concat[(coverage_concat['dose'] == '4dosesDTaPVaccinationAge') & \n",
    "                       (coverage_concat['category'] == '19-35 Months')]\n",
    "year = sorted(list(set(dtap['year'])))\n",
    "states = sorted(statefull_list)\n",
    "\n",
    "state_coverage = {}\n",
    "state_low = {}\n",
    "state_high = {}\n",
    "state_year = {}\n",
    "for s in states:\n",
    "    state_coverage[s] = []\n",
    "    state_low[s] = []\n",
    "    state_high[s] = []\n",
    "    state_year[s] = []\n",
    "    for y in year:\n",
    "        current = dtap[\n",
    "            (dtap['year'] == y) &\n",
    "            (dtap['location'] == s)]\n",
    "        prev = current['coverage']\n",
    "        prev_min = current['low']\n",
    "        prev_max = current['high']\n",
    "        if len(prev) and not(numpy.isnan(prev.values[0])):\n",
    "            assert len(prev) == 1\n",
    "            state_coverage[s] += [prev.values[0]]\n",
    "            state_low[s] += [prev_min.values[0]]\n",
    "            state_high[s] += [prev_max.values[0]]\n",
    "            state_year[s] += [y]\n",
    "\n",
    "InteractiveLinePlot(state_year, states, state_low, state_coverage, state_high, 'Vaccine Coverage', 10)\n"
   ]
  },
  {
   "cell_type": "markdown",
   "metadata": {
    "heading_collapsed": true
   },
   "source": [
    "# Additional Data"
   ]
  },
  {
   "cell_type": "markdown",
   "metadata": {
    "heading_collapsed": true,
    "hidden": true
   },
   "source": [
    "## U.S. Census"
   ]
  },
  {
   "cell_type": "code",
   "execution_count": null,
   "metadata": {
    "hidden": true,
    "hide_input": false
   },
   "outputs": [],
   "source": [
    "# Print census data\n",
    "table_viz = qgrid.show_grid(census, show_toolbar=True)\n",
    "table_viz"
   ]
  },
  {
   "cell_type": "code",
   "execution_count": null,
   "metadata": {
    "hidden": true
   },
   "outputs": [],
   "source": [
    "year = sorted(list(set(census['year'])))\n",
    "county_pop = {}\n",
    "for y in year:\n",
    "    county_pop[y] = []\n",
    "    for county_id in counties:\n",
    "        curr_fips = \"%02d\" % (county_id[0]) + \"%03d\" % (county_id[1])\n",
    "        if (y, curr_fips) in tot_pop.groups:\n",
    "            county_pop[y] += [\n",
    "                float(tot_pop.get_group((y, curr_fips))['pop'].sum())]\n",
    "        else:\n",
    "            county_pop[y] += [0.]\n",
    "\n",
    "# retieve the max and min values\n",
    "maxim = census.groupby(['year', 'fips'])['pop'].sum().max()\n",
    "minim = census.groupby(['year', 'fips'])['pop'].sum().min()\n",
    "\n",
    "InteractiveMapPlot(year, county_pop, maxim, minim,\n",
    "                   'Population', mapper=EqHistColorMapper)"
   ]
  }
 ],
 "metadata": {
  "celltoolbar": "Initialization Cell",
  "colab": {
   "name": "autism_study.ipynb",
   "provenance": []
  },
  "hide_input": false,
  "kernelspec": {
   "display_name": "Python 3",
   "language": "python",
   "name": "python3"
  },
  "language_info": {
   "codemirror_mode": {
    "name": "ipython",
    "version": 3
   },
   "file_extension": ".py",
   "mimetype": "text/x-python",
   "name": "python",
   "nbconvert_exporter": "python",
   "pygments_lexer": "ipython3",
   "version": "3.7.8"
  },
  "toc": {
   "base_numbering": 1,
   "nav_menu": {},
   "number_sections": true,
   "sideBar": true,
   "skip_h1_title": false,
   "title_cell": "Table of Contents",
   "title_sidebar": "Contents",
   "toc_cell": false,
   "toc_position": {},
   "toc_section_display": true,
   "toc_window_display": true
  },
  "varInspector": {
   "cols": {
    "lenName": 16,
    "lenType": 16,
    "lenVar": 40
   },
   "kernels_config": {
    "python": {
     "delete_cmd_postfix": "",
     "delete_cmd_prefix": "del ",
     "library": "var_list.py",
     "varRefreshCmd": "print(var_dic_list())"
    },
    "r": {
     "delete_cmd_postfix": ") ",
     "delete_cmd_prefix": "rm(",
     "library": "var_list.r",
     "varRefreshCmd": "cat(var_dic_list()) "
    }
   },
   "position": {
    "height": "584px",
    "left": "1590px",
    "right": "20px",
    "top": "120px",
    "width": "350px"
   },
   "types_to_exclude": [
    "module",
    "function",
    "builtin_function_or_method",
    "instance",
    "_Feature"
   ],
   "window_display": false
  }
 },
 "nbformat": 4,
 "nbformat_minor": 1
}
