{
 "cells": [
  {
   "cell_type": "code",
   "execution_count": null,
   "metadata": {
    "id": "wCPkpE_advrV"
   },
   "outputs": [],
   "source": [
    "import bokeh\n",
    "import pandas\n",
    "import qgrid\n",
    "import numpy\n",
    "\n",
    "from bokeh.io import output_file\n",
    "from bokeh.io import output_notebook\n",
    "from bokeh.io import show\n",
    "from bokeh.layouts import layout\n",
    "from bokeh.models import ColumnDataSource\n",
    "from bokeh.models import CustomJS\n",
    "from bokeh.models import EqHistColorMapper\n",
    "from bokeh.models import HoverTool\n",
    "from bokeh.models import LinearColorMapper\n",
    "from bokeh.models import RadioButtonGroup\n",
    "from bokeh.models import Slider\n",
    "from bokeh.plotting import figure\n",
    "\n",
    "from bokeh.palettes import Viridis8 as palette\n",
    "palette = tuple(reversed(palette))\n",
    "\n",
    "bokeh.sampledata.download()\n",
    "from bokeh.sampledata.us_counties import data as counties"
   ]
  },
  {
   "cell_type": "code",
   "execution_count": null,
   "metadata": {
    "cell_style": "center",
    "id": "WQlr72WSdvrW"
   },
   "outputs": [],
   "source": [
    "# Load autism prevalence data\n",
    "autism = pandas.read_csv(\"data/ADV_AllData.csv\")\n",
    "# State codes are lower case in the other tables\n",
    "state_list = [s.lower() for s in set(autism['Location'])]\n",
    "# Remove useless states\n",
    "state_list.remove('ak')\n",
    "state_list.remove('hi')\n",
    "\n",
    "# Load census data\n",
    "census = pandas.read_csv(\n",
    "    \"data/census.txt\", dtype={'year': int, 'fips': str, 'age': int, 'pop': int})\n",
    "# group by year and county\n",
    "tot_pop = census.groupby(['year', 'fips'])\n",
    "\n",
    "counties = {\n",
    "    code: county for code, county in counties.items() if county[\"state\"] in state_list\n",
    "}"
   ]
  },
  {
   "cell_type": "code",
   "execution_count": null,
   "metadata": {
    "cell_style": "split"
   },
   "outputs": [],
   "source": [
    "# Print prevalence data\n",
    "table_viz = qgrid.show_grid(autism, show_toolbar=True)\n",
    "table_viz"
   ]
  },
  {
   "cell_type": "code",
   "execution_count": null,
   "metadata": {
    "cell_style": "split"
   },
   "outputs": [],
   "source": [
    "# Print census data\n",
    "table_viz = qgrid.show_grid(census, show_toolbar=True)\n",
    "table_viz"
   ]
  },
  {
   "cell_type": "code",
   "execution_count": null,
   "metadata": {
    "id": "f3zhkFZ6dvrW"
   },
   "outputs": [],
   "source": [
    "year = sorted(list(set(census['year'])))\n",
    "county_pop = {}\n",
    "for y in year:\n",
    "    county_pop[y] = []\n",
    "    for county_id in counties:\n",
    "        curr_fips = \"%02d\" % (county_id[0]) + \"%03d\" % (county_id[1])\n",
    "        if (y, curr_fips) in tot_pop.groups:\n",
    "            county_pop[y] += [\n",
    "                float(tot_pop.get_group((y, curr_fips))['pop'].sum())]\n",
    "        else:\n",
    "            county_pop[y] += [0.]"
   ]
  },
  {
   "cell_type": "code",
   "execution_count": null,
   "metadata": {
    "id": "fjsa6C6ydvrW"
   },
   "outputs": [],
   "source": [
    "output_notebook()\n",
    "\n",
    "county_xs = [county[\"lons\"] for county in counties.values()]\n",
    "county_ys = [county[\"lats\"] for county in counties.values()]\n",
    "county_names = [county['name'] for county in counties.values()]\n",
    "# retieve the max and min values\n",
    "maxim = census.groupby(['year', 'fips'])['pop'].sum().max()\n",
    "minim = census.groupby(['year', 'fips'])['pop'].sum().min()\n",
    "color_mapper = EqHistColorMapper(\n",
    "    palette=palette, high=maxim, low=minim, low_color=\"#FFFFFF\")\n",
    "\n",
    "data = dict(x=county_xs,\n",
    "            y=county_ys,\n",
    "            name=county_names)\n",
    "for y in year:\n",
    "    data.update({\"pop_%d\" % (y): county_pop[y]})\n",
    "data.update({\"pop\": county_pop[year[0]]})\n",
    "source = ColumnDataSource(data)\n",
    "\n",
    "TOOLS = \"pan,wheel_zoom,reset,hover,save\"\n",
    "p = figure(plot_width=1000, plot_height=800,\n",
    "           title=\"U.S. population per county\", tools=TOOLS,\n",
    "           x_axis_location=None, y_axis_location=None,\n",
    "           tooltips=[(\"Name\", \"@name\"),\n",
    "                     (\"Population\", \"@pop\"),\n",
    "                     (\"(Long, Lat)\", \"($x, $y)\")\n",
    "                    ])\n",
    "p.grid.grid_line_color = None\n",
    "p.hover.point_policy = \"follow_mouse\"\n",
    "\n",
    "patch_renderer = p.patches(\n",
    "    'x', 'y', source=source, fill_alpha=0.7,\n",
    "    line_color=\"white\", line_width=0.5,\n",
    "    fill_color={'field': 'pop', 'transform': color_mapper})\n",
    "\n",
    "code = \"\"\"\n",
    "console.log('slider: value=' + this.value, this.toString())\n",
    "var data = source.data;\n",
    "var pop = data['pop']\n",
    "var newpop = data['pop_' + this.value]\n",
    "for (var i = 0; i < pop.length; i++) {\n",
    "    pop[i] = newpop[i]\n",
    "}\n",
    "source.change.emit();\n",
    "\"\"\"\n",
    "callback = CustomJS(args=dict(source=source), code=code)\n",
    "slider = Slider(start=2000, end=2017, value=2000, step=1, title=\"Year\")\n",
    "slider.js_on_change(\"value\", callback)\n",
    "\n",
    "show(layout([[p], [slider]], sizing_mode='scale_width'))\n",
    "output_file(\"US_pop.html\")"
   ]
  },
  {
   "cell_type": "code",
   "execution_count": null,
   "metadata": {
    "id": "0Jom4H3VdvrW"
   },
   "outputs": [],
   "source": [
    "# Could be one of ['medi', 'addm', 'sped', 'nsch']\n",
    "prevalence = autism[autism['Source'] == 'medi']\n",
    "year = sorted(list(set(prevalence['Year'])))\n",
    "\n",
    "county_autism = {}\n",
    "for y in year:\n",
    "    county_autism[y] = []\n",
    "    for county_id in counties:\n",
    "        curr_state = (counties[county_id]['state']).upper()\n",
    "        prev = prevalence[\n",
    "            (prevalence['Year'] == y) &\n",
    "            (prevalence['Location'] == curr_state)]['Prevalence']\n",
    "        if len(prev) and not(numpy.isnan(prev.values[0])):\n",
    "            assert len(prev) == 1\n",
    "            county_autism[y] += [prev.values[0]]\n",
    "        else:\n",
    "            county_autism[y] += [0.]"
   ]
  },
  {
   "cell_type": "code",
   "execution_count": null,
   "metadata": {
    "id": "FStXT_xidvrW"
   },
   "outputs": [],
   "source": [
    "output_notebook()\n",
    "\n",
    "county_xs = [county[\"lons\"] for county in counties.values()]\n",
    "county_ys = [county[\"lats\"] for county in counties.values()]\n",
    "county_names = [county['name'] for county in counties.values()]\n",
    "# retieve the max and min values\n",
    "maxim = prevalence['Prevalence'].max()\n",
    "minim = prevalence['Prevalence'].min()\n",
    "color_mapper = LinearColorMapper(\n",
    "    palette=palette, high=maxim, low=minim, low_color=\"#FFFFFF\")\n",
    "\n",
    "\n",
    "data = dict(x=county_xs,\n",
    "            y=county_ys,\n",
    "            name=county_names)\n",
    "for y in year:\n",
    "    data.update({\"autism_%d\" % (y): county_autism[y]})\n",
    "data.update({\"autism\": county_autism[year[0]]})\n",
    "source = ColumnDataSource(data)\n",
    "\n",
    "TOOLS = \"pan,wheel_zoom,reset,hover,save\"\n",
    "p = figure(plot_width=1000, plot_height=800,\n",
    "           title=\"U.S. autism prevalence\", tools=TOOLS,\n",
    "           x_axis_location=None, y_axis_location=None,\n",
    "           tooltips=[(\"Name\", \"@name\"),\n",
    "                     (\"Prevalence\", \"@autism\"),\n",
    "                     (\"(Long, Lat)\", \"($x, $y)\")\n",
    "                     ])\n",
    "p.grid.grid_line_color = None\n",
    "p.hover.point_policy = \"follow_mouse\"\n",
    "\n",
    "patch_renderer = p.patches(\n",
    "    'x', 'y', source=source, fill_alpha=0.7, \n",
    "    line_color=\"white\", line_width=0.5,\n",
    "    fill_color={'field': 'autism', 'transform': color_mapper})\n",
    "\n",
    "code = \"\"\"\n",
    "console.log('radio_button_group: active=' + this.active, this.toString())\n",
    "var data = source.data;\n",
    "var autism = data['autism']\n",
    "var newautism = data['autism_' + this.labels[this.active]]\n",
    "for (var i = 0; i < autism.length; i++) {\n",
    "    autism[i] = newautism[i]\n",
    "}\n",
    "source.change.emit();\n",
    "\"\"\"\n",
    "callback = CustomJS(args=dict(source=source), code=code)\n",
    "labels = [str(y) for y in year]\n",
    "radio_button_group = RadioButtonGroup(labels=labels, active=0)\n",
    "radio_button_group.js_on_click(callback)\n",
    "\n",
    "show(layout([[p], [radio_button_group]], sizing_mode='scale_width'))\n",
    "output_file(\"US_autism.html\")"
   ]
  },
  {
   "cell_type": "code",
   "execution_count": null,
   "metadata": {},
   "outputs": [],
   "source": [
    "name = ['polio', 'dtap', 'polio', 'MMR', 'Hib', 'varicelle',\n",
    "        'hepatB', 'hepatA','PCV', 'rotavirus']\n",
    "\n",
    "coverage = []\n",
    "for nn in name:\n",
    "    coverage += [pandas.read_csv(\"data/\"+ nn +\"_row.txt\")]\n",
    "\n",
    "table_viz = qgrid.show_grid(pandas.concat(coverage), show_toolbar=True)\n",
    "table_viz"
   ]
  },
  {
   "cell_type": "code",
   "execution_count": null,
   "metadata": {},
   "outputs": [],
   "source": []
  }
 ],
 "metadata": {
  "colab": {
   "name": "autism_study.ipynb",
   "provenance": []
  },
  "kernelspec": {
   "display_name": "Python 3",
   "language": "python",
   "name": "python3"
  },
  "language_info": {
   "codemirror_mode": {
    "name": "ipython",
    "version": 3
   },
   "file_extension": ".py",
   "mimetype": "text/x-python",
   "name": "python",
   "nbconvert_exporter": "python",
   "pygments_lexer": "ipython3",
   "version": "3.7.8"
  },
  "varInspector": {
   "cols": {
    "lenName": 16,
    "lenType": 16,
    "lenVar": 40
   },
   "kernels_config": {
    "python": {
     "delete_cmd_postfix": "",
     "delete_cmd_prefix": "del ",
     "library": "var_list.py",
     "varRefreshCmd": "print(var_dic_list())"
    },
    "r": {
     "delete_cmd_postfix": ") ",
     "delete_cmd_prefix": "rm(",
     "library": "var_list.r",
     "varRefreshCmd": "cat(var_dic_list()) "
    }
   },
   "types_to_exclude": [
    "module",
    "function",
    "builtin_function_or_method",
    "instance",
    "_Feature"
   ],
   "window_display": false
  }
 },
 "nbformat": 4,
 "nbformat_minor": 1
}
