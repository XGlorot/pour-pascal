{
 "cells": [
  {
   "cell_type": "code",
   "execution_count": null,
   "metadata": {},
   "outputs": [],
   "source": [
    "import pandas\n",
    "import bokeh\n",
    "from bokeh.io import show\n",
    "from bokeh.layouts import layout\n",
    "from bokeh.io import output_notebook\n",
    "from bokeh.io import output_file\n",
    "from bokeh.models import EqHistColorMapper\n",
    "from bokeh.models import ColumnDataSource\n",
    "from bokeh.models import CustomJS\n",
    "from bokeh.models import HoverTool\n",
    "from bokeh.models import Slider\n",
    "from bokeh.palettes import Viridis8 as palette\n",
    "palette = tuple(reversed(palette))\n",
    "\n",
    "from bokeh.plotting import figure\n",
    "\n",
    "bokeh.sampledata.download()\n",
    "from bokeh.sampledata.us_counties import data as counties"
   ]
  },
  {
   "cell_type": "code",
   "execution_count": null,
   "metadata": {},
   "outputs": [],
   "source": [
    "autism = pandas.read_csv(\"ADV_AllData.csv\")\n",
    "state_list = [s.lower() for s in set(autism['Location'])]\n",
    "state_list.remove('ak')\n",
    "state_list.remove('hi')\n",
    "\n",
    "census = pandas.read_csv(\"census.txt\", dtype={'year':int, 'fips':str, 'age':int, 'pop':int})\n",
    "tot_pop = census.groupby(['year', 'fips'])\n",
    "maxim = census.groupby(['year', 'fips'])['pop'].sum().max()\n",
    "minim = census.groupby(['year', 'fips'])['pop'].sum().min()"
   ]
  },
  {
   "cell_type": "code",
   "execution_count": null,
   "metadata": {},
   "outputs": [],
   "source": [
    "counties = {\n",
    "    code: county for code, county in counties.items() if county[\"state\"] in state_list\n",
    "}\n",
    "county_pop = {}\n",
    "for i in range(18):\n",
    "    county_pop[2000+i] = []\n",
    "    for county_id in counties:\n",
    "        curr_fips = \"%02d\"%(county_id[0]) + \"%03d\"%(county_id[1])\n",
    "        if (2000+i, curr_fips) in tot_pop.groups:\n",
    "            county_pop[2000+i] += [float(tot_pop.get_group((2000+i,curr_fips))['pop'].sum())]\n",
    "        else:\n",
    "            county_pop[2000+i] += [0.]"
   ]
  },
  {
   "cell_type": "code",
   "execution_count": null,
   "metadata": {},
   "outputs": [],
   "source": [
    "output_notebook()\n",
    "\n",
    "\n",
    "\n",
    "county_xs = [county[\"lons\"] for county in counties.values()]\n",
    "county_ys = [county[\"lats\"] for county in counties.values()]\n",
    "\n",
    "county_names = [county['name'] for county in counties.values()]\n",
    "color_mapper = EqHistColorMapper(palette=palette, high=maxim, low=minim, low_color=\"#FFFFFF\")\n",
    "\n",
    "\n",
    "\n",
    "data = dict(x=county_xs,\n",
    "            y=county_ys,\n",
    "            name=county_names)\n",
    "for i in range(18):\n",
    "    data.update({\"pop_%d\"%(2000+i) : county_pop[2000 + i]})\n",
    "data.update({\"pop\" : county_pop[2000]})\n",
    "\n",
    "source = ColumnDataSource(data)\n",
    "\n",
    "TOOLS = \"pan,wheel_zoom,reset,hover,save\"\n",
    "\n",
    "p = figure(plot_width=1000, plot_height=800,\n",
    "    title=\"U.S. population per county\", tools=TOOLS,\n",
    "    x_axis_location=None, y_axis_location=None,\n",
    "    tooltips=[\n",
    "        (\"Name\", \"@name\"), (\"Population\", \"@pop\"), (\"(Long, Lat)\", \"($x, $y)\")\n",
    "    ])\n",
    "p.grid.grid_line_color = None\n",
    "p.hover.point_policy = \"follow_mouse\"\n",
    "\n",
    "patch_renderer = p.patches('x', 'y', source=source,\n",
    "                           fill_color={'field': 'pop', 'transform': color_mapper},\n",
    "                           fill_alpha=0.7, line_color=\"white\", line_width=0.5)\n",
    "\n",
    "code = \"\"\"\n",
    "console.log('slider: value=' + this.value, this.toString())\n",
    "var data = source.data;\n",
    "var pop = data['pop']\n",
    "var newpop = data['pop_' + this.value]\n",
    "for (var i = 0; i < pop.length; i++) {\n",
    "    pop[i] = newpop[i]\n",
    "}\n",
    "source.change.emit();\n",
    "\"\"\"\n",
    "callback = CustomJS(args=dict(source=source), code=code)\n",
    "slider = Slider(\n",
    "    start=2000,\n",
    "    end=2017,\n",
    "    value=2000,\n",
    "    step=1,\n",
    "    title=\"Year\"\n",
    ")\n",
    "slider.js_on_change(\"value\", callback)\n",
    "\n",
    "\n",
    "show(layout([[p], [slider]], sizing_mode='scale_width'))\n",
    "output_file(\"US_pop.html\")\n"
   ]
  },
  {
   "cell_type": "code",
   "execution_count": null,
   "metadata": {},
   "outputs": [],
   "source": []
  },
  {
   "cell_type": "code",
   "execution_count": null,
   "metadata": {},
   "outputs": [],
   "source": []
  }
 ],
 "metadata": {
  "kernelspec": {
   "display_name": "Python 3",
   "language": "python",
   "name": "python3"
  },
  "language_info": {
   "codemirror_mode": {
    "name": "ipython",
    "version": 3
   },
   "file_extension": ".py",
   "mimetype": "text/x-python",
   "name": "python",
   "nbconvert_exporter": "python",
   "pygments_lexer": "ipython3",
   "version": "3.7.8"
  }
 },
 "nbformat": 4,
 "nbformat_minor": 4
}
